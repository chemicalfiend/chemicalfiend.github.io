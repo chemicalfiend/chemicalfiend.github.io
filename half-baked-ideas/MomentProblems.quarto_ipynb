{
  "cells": [
    {
      "cell_type": "markdown",
      "metadata": {},
      "source": [
        "---\n",
        "title: Moment Problems in Probability\n",
        "jupyter: julia-1.11\n",
        "---\n",
        "\n",
        "\n",
        "\n",
        "- Really cool applied math problem : can you construct a probability distribution from its moments / cumulants?\n",
        "- Would such a construction be unique? What kind of associated issues can you run into with such a construction\n",
        "\n",
        "\n",
        "# Naive Approach : Fourier Transform\n"
      ],
      "id": "a867fba6"
    },
    {
      "cell_type": "code",
      "metadata": {},
      "source": [
        "using QuadGK\n",
        "using Integrals"
      ],
      "id": "1d18d78b",
      "execution_count": null,
      "outputs": []
    },
    {
      "cell_type": "code",
      "metadata": {},
      "source": [
        "using LinearAlgebra\n",
        "using Plots\n",
        "using FFTW"
      ],
      "id": "a84bf67b",
      "execution_count": null,
      "outputs": []
    },
    {
      "cell_type": "code",
      "metadata": {},
      "source": [
        "cums = [0.0, 100, 0.0, 3.0];"
      ],
      "id": "994fd2c0",
      "execution_count": null,
      "outputs": []
    },
    {
      "cell_type": "code",
      "metadata": {},
      "source": [
        "function characteristic_function(x; cumz=cums)\n",
        "    s = 0. + 0.0im\n",
        "    for (n, cum) in enumerate(cumz)\n",
        "        if (n < 20)\n",
        "            s += cum * ((x*1.0im)^n) / factorial(n)\n",
        "        else\n",
        "            # Use stirling's approximation if n > 20\n",
        "            s += cum * ((x*1.0im)^n) / (n^n * exp(n))\n",
        "        end\n",
        "    end\n",
        "    return exp(s)\n",
        "end"
      ],
      "id": "664d53ec",
      "execution_count": null,
      "outputs": []
    },
    {
      "cell_type": "code",
      "metadata": {},
      "source": [
        "characteristic_function(0.02)"
      ],
      "id": "674a23a7",
      "execution_count": null,
      "outputs": []
    },
    {
      "cell_type": "code",
      "metadata": {},
      "source": [
        "t = -1:0.1:1\n",
        "plot(t, real.(characteristic_function.(t)), title=\"Real part of characteristic function\", ylabel=\"phi(x)\")"
      ],
      "id": "49a0eb04",
      "execution_count": null,
      "outputs": []
    },
    {
      "cell_type": "code",
      "metadata": {},
      "source": [
        "y = -200:0.01:200\n",
        "ϕ = characteristic_function.(y)\n",
        "F = fftshift(fft(ϕ)); # Fourier transform of characteristic function gives us the distribution"
      ],
      "id": "b3c9cf4e",
      "execution_count": null,
      "outputs": []
    },
    {
      "cell_type": "code",
      "metadata": {},
      "source": [
        "function P(x)\n",
        "    i = argmin(abs.(y .- x))\n",
        "    return abs(real(F[i]))\n",
        "end"
      ],
      "id": "7ae3b73b",
      "execution_count": null,
      "outputs": []
    },
    {
      "cell_type": "code",
      "metadata": {},
      "source": [
        "#norm, _ = quadgk(P, -Inf, Inf)"
      ],
      "id": "2d073fda",
      "execution_count": null,
      "outputs": []
    },
    {
      "cell_type": "code",
      "metadata": {},
      "source": [
        "function prob(x)\n",
        "    return P(x)\n",
        "end"
      ],
      "id": "77892900",
      "execution_count": null,
      "outputs": []
    },
    {
      "cell_type": "code",
      "metadata": {
        "scrolled": true
      },
      "source": [
        "#quadgk(prob, -Inf, Inf)"
      ],
      "id": "6aa26ec6",
      "execution_count": null,
      "outputs": []
    },
    {
      "cell_type": "code",
      "metadata": {},
      "source": [
        "plot(y, prob, title=\"Probability Distribution\", ylabel=\"P(x)\")"
      ],
      "id": "cd0ad88c",
      "execution_count": null,
      "outputs": []
    },
    {
      "cell_type": "code",
      "metadata": {},
      "source": [
        "import Pkg; Pkg.add(\"MCIntegration\")\n",
        "using MCIntegration"
      ],
      "id": "818b8e79",
      "execution_count": null,
      "outputs": []
    },
    {
      "cell_type": "code",
      "metadata": {
        "scrolled": true
      },
      "source": [
        "x3prob(x, p) = (x^4)*prob(x)\n",
        "intprob = IntegralProblem(x3prob, (-Inf, Inf))\n",
        "#sol = solve(intprob, QuadGKJL(), reltol = 1e-3, abstol = 1e-3)"
      ],
      "id": "3685a4da",
      "execution_count": null,
      "outputs": []
    },
    {
      "cell_type": "code",
      "metadata": {},
      "source": [
        "#sol.u"
      ],
      "id": "7e7c2fe6",
      "execution_count": null,
      "outputs": []
    },
    {
      "cell_type": "code",
      "metadata": {},
      "source": [
        "# Smoothing via moving averages\n",
        "\n",
        "binsize = 150\n",
        "\n",
        "K = abs.(real.(prob))\n",
        "\n",
        "mov = []\n",
        "xaxis = []\n",
        "for i in 1:(length(enumerate(K))-binsize)\n",
        "    sum = 0\n",
        "    for j in 1:binsize\n",
        "        sum += K[i+j-1]\n",
        "    end\n",
        "    push!(mov, sum/binsize)\n",
        "    push!(xaxis, x[i])\n",
        "end"
      ],
      "id": "5cf76f10",
      "execution_count": null,
      "outputs": []
    },
    {
      "cell_type": "code",
      "metadata": {},
      "source": [
        "plot(xaxis, mov, title=\"Probability Distribution Smoothed\")"
      ],
      "id": "7af2158a",
      "execution_count": null,
      "outputs": []
    },
    {
      "cell_type": "markdown",
      "metadata": {},
      "source": [
        "Reading\n",
        "1. Classical Moment Problem, Akhiezer\n",
        "2. \n"
      ],
      "id": "2c15ecb4"
    }
  ],
  "metadata": {
    "kernelspec": {
      "name": "julia-1.11",
      "language": "julia",
      "display_name": "Julia 1.11.4",
      "path": "/home/pranay/.local/share/jupyter/kernels/julia-1.11"
    }
  },
  "nbformat": 4,
  "nbformat_minor": 5
}