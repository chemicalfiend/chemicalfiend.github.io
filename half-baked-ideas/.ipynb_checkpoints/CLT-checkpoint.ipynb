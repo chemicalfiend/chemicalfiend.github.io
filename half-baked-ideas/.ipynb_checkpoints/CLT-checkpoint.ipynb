{
 "cells": [
  {
   "cell_type": "markdown",
   "id": "43439a3c-1245-4f98-89a6-fb17ec532eba",
   "metadata": {},
   "source": [
    "Created by Pranay Venkatesh, April 2025"
   ]
  },
  {
   "cell_type": "markdown",
   "id": "e35eb09e-5b11-4cbd-b05b-7ea92b887401",
   "metadata": {},
   "source": [
    "# Central Limit Theorem\n",
    "\n",
    "- Inadequate placeholder for a very interesting \"emergent\" phenomenon.\n",
    "\n",
    "TODO \n",
    "- [ ] The moments and cumulants of a normal distribution\n",
    "- [ ] Weak and strong forms of CLT\n",
    "- [ ] CLT preasymptotics\n",
    "- [ ] Infinite variance - Levy $\\alpha$-stable class.\n",
    "- [ ] Distribution of sample variance is $\\chi^2$.\n",
    "- [ ] neural networks in large N reveals gaussian process\n",
    "- [ ] Gaussian noise \n",
    "- [ ] CLT in fourier space (zw)\n",
    "- [ ] Higher moment \"effective\" gaussian pictures - massaging around higher cumulants (make plots of the first, second and higher order cumulants over sample size and see how the first two cumulants \"supplant\" the other ones) - true half-baked spirit\n",
    "- [ ] Tease cumulant expansions with second order truncations."
   ]
  },
  {
   "cell_type": "markdown",
   "id": "216bbea6-4884-4b90-8984-7554d2819e97",
   "metadata": {},
   "source": []
  },
  {
   "cell_type": "markdown",
   "id": "e088c347-cbd5-4b0c-9331-c8491d82dd0a",
   "metadata": {},
   "source": []
  },
  {
   "cell_type": "markdown",
   "id": "eb348dde-80be-444d-8590-251202a0d24e",
   "metadata": {},
   "source": []
  }
 ],
 "metadata": {
  "kernelspec": {
   "display_name": "Julia 1.11.4",
   "language": "julia",
   "name": "julia-1.11"
  },
  "language_info": {
   "file_extension": ".jl",
   "mimetype": "application/julia",
   "name": "julia",
   "version": "1.11.4"
  }
 },
 "nbformat": 4,
 "nbformat_minor": 5
}
