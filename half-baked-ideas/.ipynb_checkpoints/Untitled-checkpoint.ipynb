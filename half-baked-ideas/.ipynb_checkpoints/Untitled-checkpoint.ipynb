{
 "cells": [
  {
   "cell_type": "markdown",
   "id": "ea515862-3c6d-45b1-b2fc-e0dbc1af40c1",
   "metadata": {},
   "source": [
    "[Half-Baked Ideas](https://chemicalfiend.github.io/half-baked-ideas/half-baked.html)"
   ]
  },
  {
   "cell_type": "markdown",
   "id": "84dec5e2-0bec-4ba0-8a73-e2517bb8651c",
   "metadata": {},
   "source": [
    "# The Julia Programming Language"
   ]
  },
  {
   "cell_type": "markdown",
   "id": "1694994a-79c9-4fe6-9602-14b5ccec7cbb",
   "metadata": {},
   "source": [
    "Julia is probably my favourite programming language. It's so simple, easy-to-use, versatile and feature-rich. Scientists have for years been using python for ease and C or Fortran for speed, but now you have it all in one package that does everything for you. It's super convenient, super easy and super reliable. "
   ]
  },
  {
   "cell_type": "markdown",
   "id": "45f12baa-d929-482b-b842-c3d735f4309d",
   "metadata": {},
   "source": [
    "# How I got into Julia\n",
    "\n",
    "I've been a julia programmer for a few years now. Initially, I was using Julia exclusively as a scripting language to automate some tasks for my research work [md_utils](https://github.com/chemicalfiend/md_utils). After some time I discovered the JuliaMolSim community, which I've tried working with. So far, I've contributed to the [Molly.jl](https://github.com/JuliaMolSim/Molly.jl) and [AtomsBase.jl](https://github.com/JuliaMolSim/AtomsBase.jl) packages, though I hope to contribute a lot more in the future to the ecosystem as a whole \n",
    "\n",
    "\n",
    "My main contribution to this ecosystem was participating in the **Julia Summer of Code 2022** programme, where I added bond and angle constraint features to the Molly.jl package.\n",
    "\n",
    "I later worked with the Frost Group at Imperial College London, where I helped develop the group's julia codebase to work on non-adiabatic dynamics and path integral monte carlo simulations to study polarons in semiconductor materials\n"
   ]
  },
  {
   "cell_type": "code",
   "execution_count": null,
   "id": "6979cc09-ccd0-4e52-b05a-e78bb1074d44",
   "metadata": {},
   "outputs": [],
   "source": []
  },
  {
   "cell_type": "code",
   "execution_count": null,
   "id": "cc9d4164-e37d-4fbd-964b-7ec65e6c580b",
   "metadata": {},
   "outputs": [],
   "source": []
  }
 ],
 "metadata": {
  "kernelspec": {
   "display_name": "Julia 1.11.4",
   "language": "julia",
   "name": "julia-1.11"
  },
  "language_info": {
   "file_extension": ".jl",
   "mimetype": "application/julia",
   "name": "julia",
   "version": "1.11.4"
  }
 },
 "nbformat": 4,
 "nbformat_minor": 5
}
