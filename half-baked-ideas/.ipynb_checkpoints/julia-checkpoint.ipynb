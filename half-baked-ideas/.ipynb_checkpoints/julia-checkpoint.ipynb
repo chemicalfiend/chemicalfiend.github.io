{
 "cells": [
  {
   "cell_type": "markdown",
   "id": "ea515862-3c6d-45b1-b2fc-e0dbc1af40c1",
   "metadata": {},
   "source": [
    "[Half-Baked Ideas](https://chemicalfiend.github.io/half-baked-ideas/half-baked.html)"
   ]
  },
  {
   "attachments": {},
   "cell_type": "markdown",
   "id": "c79a20e7-ddd9-4ec1-a985-3c69230b040a",
   "metadata": {},
   "source": [
    "# The Julia Programming Language\n",
    "\n",
    "Julia is probably my favourite programming language. It's so simple, easy-to-use, versatile and feature-rich. Scientists have for years been using python for ease and C or Fortran for speed, but now you have it all in one package that does everything for you. It's super convenient, super easy and super reliable. "
   ]
  },
  {
   "cell_type": "markdown",
   "id": "45f12baa-d929-482b-b842-c3d735f4309d",
   "metadata": {},
   "source": [
    "# How I got into Julia\n",
    "\n",
    "I've been a julia programmer for a few years now. Initially, I was using Julia exclusively as a scripting language to automate some tasks for my research work [md_utils](https://github.com/chemicalfiend/md_utils). After some time I discovered the JuliaMolSim community, which I've tried working with. So far, I've contributed to the [Molly.jl](https://github.com/JuliaMolSim/Molly.jl) and [AtomsBase.jl](https://github.com/JuliaMolSim/AtomsBase.jl) packages, though I hope to contribute a lot more in the future to the ecosystem as a whole  My main contribution to this ecosystem was participating in the **Julia Summer of Code 2022** programme, where I added bond and angle constraint features to the Molly.jl package. I later worked with the Frost Group at Imperial College London, where I helped develop the group's julia codebase to work on non-adiabatic dynamics and path integral monte carlo simulations to study polarons in semiconductor materials."
   ]
  },
  {
   "cell_type": "code",
   "execution_count": 1,
   "id": "6979cc09-ccd0-4e52-b05a-e78bb1074d44",
   "metadata": {},
   "outputs": [
    {
     "data": {
      "text/plain": [
       "2×2 Matrix{Float64}:\n",
       " 0.0  1.0\n",
       " 1.0  0.0"
      ]
     },
     "execution_count": 1,
     "metadata": {},
     "output_type": "execute_result"
    }
   ],
   "source": [
    "# code for fun to see if it works\n",
    "\n",
    "using LinearAlgebra\n",
    "\n",
    "A = [1.0 0.0; 0.0 50.0]\n",
    "F = svd(A)\n",
    "F.U"
   ]
  },
  {
   "cell_type": "markdown",
   "id": "d7c6e672-0cf8-452e-937f-fc1230b90f5b",
   "metadata": {},
   "source": [
    "# Julia Features\n",
    "Things I want to write about : \n",
    "- [ ] Native JIT\n",
    "- [ ] Efficient broadcasting\n",
    "- [ ] Multitheading\n",
    "- [ ] GPU\n",
    "- [ ] Extensive DiffEq library / fast implementations.\n",
    "- [ ] Extensive plotting / animation libraries e.g. Makie"
   ]
  },
  {
   "cell_type": "code",
   "execution_count": null,
   "id": "e220a0c7-89af-48ce-9791-377e8f326b30",
   "metadata": {},
   "outputs": [],
   "source": []
  }
 ],
 "metadata": {
  "kernelspec": {
   "display_name": "Julia 1.11.4",
   "language": "julia",
   "name": "julia-1.11"
  },
  "language_info": {
   "file_extension": ".jl",
   "mimetype": "application/julia",
   "name": "julia",
   "version": "1.11.4"
  }
 },
 "nbformat": 4,
 "nbformat_minor": 5
}
