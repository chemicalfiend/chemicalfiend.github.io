{
 "cells": [
  {
   "cell_type": "code",
   "execution_count": 30,
   "id": "c5bd41a0-1a67-48da-9d59-279194d863d8",
   "metadata": {},
   "outputs": [
    {
     "name": "stderr",
     "output_type": "stream",
     "text": [
      "\u001b[32m\u001b[1m   Resolving\u001b[22m\u001b[39m package versions...\n",
      "\u001b[32m\u001b[1m   Installed\u001b[22m\u001b[39m Gumbo ───── v0.8.3\n",
      "\u001b[32m\u001b[1m   Installed\u001b[22m\u001b[39m Gumbo_jll ─ v0.10.2+0\n",
      "\u001b[32m\u001b[1m    Updating\u001b[22m\u001b[39m `~/.julia/environments/v1.11/Project.toml`\n",
      "  \u001b[90m[708ec375] \u001b[39m\u001b[92m+ Gumbo v0.8.3\u001b[39m\n",
      "\u001b[32m\u001b[1m    Updating\u001b[22m\u001b[39m `~/.julia/environments/v1.11/Manifest.toml`\n",
      "  \u001b[90m[708ec375] \u001b[39m\u001b[92m+ Gumbo v0.8.3\u001b[39m\n",
      "  \u001b[90m[528830af] \u001b[39m\u001b[92m+ Gumbo_jll v0.10.2+0\u001b[39m\n",
      "\u001b[92m\u001b[1mPrecompiling\u001b[22m\u001b[39m project...\n",
      "    565.2 ms\u001b[32m  ✓ \u001b[39m\u001b[90mGumbo_jll\u001b[39m\n",
      "    402.8 ms\u001b[32m  ✓ \u001b[39mGumbo\n",
      "  2 dependencies successfully precompiled in 2 seconds. 565 already precompiled.\n",
      "\u001b[32m\u001b[1m   Resolving\u001b[22m\u001b[39m package versions...\n",
      "\u001b[32m\u001b[1m   Installed\u001b[22m\u001b[39m Cascadia ─ v1.0.2\n",
      "\u001b[32m\u001b[1m    Updating\u001b[22m\u001b[39m `~/.julia/environments/v1.11/Project.toml`\n",
      "  \u001b[90m[54eefc05] \u001b[39m\u001b[92m+ Cascadia v1.0.2\u001b[39m\n",
      "\u001b[32m\u001b[1m    Updating\u001b[22m\u001b[39m `~/.julia/environments/v1.11/Manifest.toml`\n",
      "  \u001b[90m[54eefc05] \u001b[39m\u001b[92m+ Cascadia v1.0.2\u001b[39m\n",
      "\u001b[92m\u001b[1mPrecompiling\u001b[22m\u001b[39m project...\n",
      "    452.6 ms\u001b[32m  ✓ \u001b[39mCascadia\n",
      "  1 dependency successfully precompiled in 1 seconds. 567 already precompiled.\n"
     ]
    }
   ],
   "source": [
    "using Pkg; Pkg.add(\"Gumbo\"); Pkg.add(\"Cascadia\")"
   ]
  },
  {
   "cell_type": "code",
   "execution_count": 31,
   "id": "389afddb-ff90-43b0-b62d-72db9870c6da",
   "metadata": {},
   "outputs": [],
   "source": [
    "using HTTP, JSON\n",
    "using Gumbo, Cascadia"
   ]
  },
  {
   "cell_type": "code",
   "execution_count": 37,
   "id": "bf3b5896-67ec-4e1a-9c91-88ead917eca1",
   "metadata": {},
   "outputs": [
    {
     "data": {
      "text/plain": [
       "scrape_yahoo_option_chain (generic function with 2 methods)"
      ]
     },
     "execution_count": 37,
     "metadata": {},
     "output_type": "execute_result"
    }
   ],
   "source": [
    "function scrape_yahoo_option_chain()\n",
    "    # URL for Yahoo Finance options page\n",
    "    url = \"https://finance.yahoo.com/quote/SPY/options\"\n",
    "    \n",
    "    # Make the HTTP request\n",
    "    response = HTTP.get(url)\n",
    "    \n",
    "    # Check if the request was successful\n",
    "    if response.status == 200\n",
    "        # Parse the HTML content\n",
    "        html = String(response.body)\n",
    "        doc = parsehtml(html)\n",
    "        \n",
    "        # Extract calls and puts tables\n",
    "        calls_table = eachmatch(sel\"table.calls\", doc.root)\n",
    "        puts_table = eachmatch(sel\"table.puts\", doc.root)\n",
    "        \n",
    "        # Print calls data\n",
    "        println(\"Calls:\")\n",
    "        for row in calls_table\n",
    "            for cell in eachmatch(sel\"td\", row)\n",
    "                println(text(cell))\n",
    "            end\n",
    "        end\n",
    "        \n",
    "        # Print puts data\n",
    "        println(\"\\nPuts:\")\n",
    "        for row in puts_table\n",
    "            for cell in eachmatch(sel\"td\", row)\n",
    "                println(text(cell))\n",
    "            end\n",
    "        end\n",
    "    else\n",
    "        println(\"Failed to fetch data: HTTP status code $(response.status)\")\n",
    "    end\n",
    "end\n"
   ]
  },
  {
   "cell_type": "code",
   "execution_count": 38,
   "id": "e467445a-c831-4d2c-baad-daabf940c285",
   "metadata": {},
   "outputs": [
    {
     "ename": "LoadError",
     "evalue": "HTTP.Exceptions.StatusError(500, \"GET\", \"/quote/SPY/options/\", HTTP.Messages.Response:\n\"\"\"\nHTTP/1.1 500 Internal Server Error\r\nexpect-ct: max-age=31536000, report-uri=\"http://csp.yahoo.com/beacon/csp?src=yahoocom-expect-ct-report-only\r\nreferrer-policy: no-referrer-when-downgrade\r\nstrict-transport-security: max-age=31536000\r\nx-content-type-options: nosniff\r\nx-frame-options: SAMEORIGIN\r\nx-xss-protection: 1; mode=block\r\ncontent-security-policy: connect-src 'self' wss://streamer.finance.yahoo.com/ https://*.3lift.com https://*.adsrvr.org https://*.adtrafficquality.google https://*.casalemedia.com https://*.cdn.yimg.com https://*.clean.gg https://*.criteo.com https://securepubads.g.doubleclick.net/* https://*.indexww.com/ https://*.liadm.com https://*.lijit.com/ https://*.media.net https://*.oath.com https://*.openx.net https://*.pubmatic.com https://*.rubiconproject.com https://*.seedtag.com https://*.sharethrough.com https://*.taboola.com https://*.yahoo.com https://*.yahoo.net https://*.yieldmo.com https://ad.doubleclick.net https://api.alyavista.com https://api.privacy-center.org https://bam.nr-data.net/ https://csi.gstatic.com https://dpm.demdex.net/ https://googleads.g.doubleclick.net/td/auctionwinner https://guce.yahoofinance.com https://oathmembershipsupport.my.salesforce-sites.com/ https://oathmembershipsupport.my.salesforce.com/ https://pagead2.googlesyndication.com https://s.yimg.com https://sdk.privacy-center.org/f5623e34-377a-419c-8bb7-3928cebffbc9/ https://securepubads.g.doubleclick.net https://smetrics.att.com/ https://static.criteo.net/js/ld/publishertag.prebid.144.js; default-src 'self'; font-src 'self' data: https://cdn.taboola.com https://finance.yahoo.com https://fonts.gstatic.com https://s.yimg.com; frame-src 'self' https://*.3lift.com https://*.a-mo.net https://*.abcnews.go.com https://*.adsrvr.org https://*.adtrafficquality.google https://*.advertising.com https://*.amazon-adsystem.com https://*.bbc.co.uk https://*.casalemedia.com https://*.chartbeat.com https://*.clicktivatedvideoplayer.com https://*.criteo.com https://*.deezer.com https://*.delivery.vidible.tv https://*.dailymotion.com/embed/video https://*.emxdgt.com https://*.etonline.com https://*.facebook.com https://*.google.com https://*.gumgum.com https://*.hulu.com https://*.indexww.com https://*.instagram.com https://*.jac.yahoosandbox.com https://*.lijit.com https://*.livestream.com https://*.media.net https://*.mtvnservices.com https://*.myfinance.com https://*.nbc.com https://*.nytimes.com https://*.oath.com https://*.openx.net https://*.pubmatic.com https://*.reuters.com https://*.rubiconproject.com https://*.safeframe.googlesyndication.com https://*.scribd.com https://*.seedtag.com https://*.sharethrough.com https://*.smartasset.com https://*.soundcloud.com https://*.spotify.com https://*.taboola.com https://*.ted.com https://*.theguardian.com https://*.tpc.googlesyndication.com https://*.trustedstack.com https://*.tumblr.com https://*.turner.com https://*.usatoday.com https://*.vimeo.com https://*.washingtonpost.com https://*.wsj.com https://*.yahoo.com https://*.yahoo.net https://*.yieldmo.com https://abcnews.go.com https://att.demdex.net/ https://bbc.co.uk https://cdn.yahoofinance.com/ https://chartbeat.com https://compass.pressekompass.net https://console.googletagservices.com https://delivery.vidible.tv https://embed.acast.com https://embed.music.apple.com https://embed.podcasts.apple.com https://embedder.wirewax.com https://flo.uri.sh/ https://flourish.studio https://www.googletagmanager.com https://guce.yahoofinance.com https://interactives.ap.org https://livestream.com https://openweb.jac.yahoosandbox.com/ https://platform.twitter.com https://s.yimg.com https://securepubads.g.doubleclick.net https://service.force.com/ https://smartasset.com https://tpc.googlesyndication.com https://tsdtocl.com/ https://view.ceros.com https://vimeo.com https://vplayer.nbcolympics.com https://widget-yahoo.ofx.com https://www.bankrate.com https://www.credible.com https://www.dailymotion.com/embed/video/ https://www.myfinance.com https://www.surveymonkey.com https://www.youtube.com https://yahoo.crunchbaseembed.com https://yahoo.real-estate.hk; img-src 'self' data: blob: about: https://www.google.com/ads/measurement/l https://*.1rx.io https://*.3lift.com https://*.adnxs.com https://*.adsafeprotected.com/ https://*.adsrvr.org https://*.adtrafficquality.google https://*.amazon-adsystem.com https://*.casalemedia.com https://*.cloudfront.net/pixel.gif https://*.criteo.com https://*.dotomi.com https://*.doubleclick.net https://*.everesttech.net https://*.googlesyndication.com https://*.indexww.com/ https://*.kueezrtb.com https://*.liadm.com https://*.lijit.com/ https://*.media.net https://*.mediago.io https://*.openx.net https://*.pubmatic.com https://*.rubiconproject.com https://*.sharethrough.com https://*.disqus.com https://*.sonobi.com https://*.taboola.com https://*.wc.yahoodns.net https://*.yahoo.com https://*.yahoo.net https://*.yieldmo.com https://*.yimg.com https://crb.kargo.com https://googleads.g.doubleclick.net/pagead/interaction/ https://media.zenfs.com https://o.aolcdn.com/images/dims https://pbs.twimg.com https://ping.chartbeat.net https://platform.twitter.com https://pong.chartbeat.net https://public.flourish.studio/resources/ https://res.cloudinary.com/yfc-nonprod/ https://res.cloudinary.com/yfc-production/ https://s2.coinmarketcap.com/static/img/coins/ https://sb.scorecardresearch.com https://securepubads.g.doubleclick.net/pagead/adview https://smetrics.att.com/b/ss/attnetprod/ https://static2.chartbeat.com https://syndication.twitter.com https://vop-yahoo.akamaized.net/pixel.gif https://www.facebook.com https://yahoovod.hs.llnwd.net/pixel.gif; manifest-src 'self' https://s.yimg.com; media-src 'self' blob: https://finance.yahoo.com https://s.yimg.com https://res.cloudinary.com/yfc-nonprod/ https://res.cloudinary.com/yfc-production/; object-src 'none'; report-to csp-endpoint; report-uri https://csp.yahoo.com/beacon/csp?src=yahoofinance; sandbox allow-downloads allow-forms allow-modals allow-popups-to-escape-sandbox allow-popups allow-presentation allow-same-origin allow-scripts allow-top-navigation-by-user-activation; script-src 'self' blob: 'unsafe-inline' 'unsafe-eval' https://launcher.spot.im https://*.adtrafficquality.google https://*.oath.com https://*.salesforceliveagent.com/ https://*.taboola.com https://*.yahoo.com https://*.yahoo.net https://adservice.google.com/adsid/integrator.js https://cdn.ampproject.org/rtv/ https://cdn.jsdelivr.net/npm/ https://cdn.rawgit.com/dcodeIO/protobuf.js/ https://console.googletagservices.com/pubconsole/loader.js https://ec.yimg.com/didomi/ https://gum.criteo.com/ https://jac.yahoosandbox.com/2.0.0/jac.js https://oathmembershipsupport.my.salesforce-sites.com/ https://oathmembershipsupport.my.salesforce.com/ https://openweb.jac.yahoosandbox.com/1.5.0/jac.js https://pagead2.googlesyndication.com https://platform.twitter.com https://s.aolcdn.com/membership/omp-static/omp-widgets/ https://s.yimg.com https://securepubads.g.doubleclick.net https://service.force.com/embeddedservice/5.0/ https://static.criteo.net/js/ld/publishertag.prebid.144.js https://static.lightning.force.com/ https://static2.chartbeat.com https://tpc.googlesyndication.com/pagead/js/ https://tpc.googlesyndication.com/sodar/sodar2.js https://wnsrvbjmeprtfrnfx.ay.delivery https://www.googletagservices.com/activeview/js; style-src 'self' 'unsafe-inline' https://cdn.taboola.com https://finance.yahoo.com https://oathmembershipsupport.my.salesforce-sites.com/ https://platform.twitter.com https://s.yimg.com https://service.force.com/; worker-src 'self' blob: https://finance.yahoo.com\r\ncontent-type: text/html; charset=utf-8\r\netag: \"c2l8ib\"\r\npermissions-policy: interest-cohort=()\r\nreport-to: {\"endpoints\":[{\"url\":\"https://csp.yahoo.com/beacon/csp?src=yahoofinance\"}],\"group\":\"csp-endpoint\",\"max-age\":10886400}\r\nx-download-options: noopen\r\nx-permitted-cross-domain-policies: none\r\nx-sveltekit-page: true\r\nvary: Accept-Encoding\r\ncontent-encoding: gzip\r\ndate: Sun, 26 Jan 2025 08:28:58 GMT\r\nx-envoy-upstream-service-time: 148\r\nserver: ATS\r\nx-envoy-decorator-operation: finance-nimbus--mtls-production-gq1.finance-k8s:4080/*\r\nCache-Control: max-age=0, private\r\nExpires: -1\r\nAge: 0\r\nTransfer-Encoding: chunked\r\nConnection: keep-alive\r\n\r\n<!doctype html>\n<html lang=\"en-US\" theme=\"light\"  data-color-scheme=\"light\" class=\"desktop neo-green dock-upscale\">\n    <head>\n        <meta charset=\"utf-8\" />\n        <meta name=\"oath:guce:consent-host\" content=\"guce.yahoo.com\" />\n         <link rel=\"preconnect\" href=\"//s.yimg.com\" crossorigin=\"anonymous\"><link rel=\"preconnect\" href=\"//geo.yahoo.com\"/><link rel=\"preconnect\" href=\"//query1.finance.yahoo.com\"/><link rel=\"preconnect\" href=\"//query2.finance.yahoo.com\"/><link rel=\"preconnect\" href=\"//consent.cmp.oath.com\"/><link rel=\"preload\" href=\"/__rapidworker-1.2.js\" as=\"worker\"/><link rel=\"preconnect\" href=\"https://s.yimg.com/uc/finance/webcore/js/_staticFinProtobuf.4b1559b8e4645fd93a12.js\"/><link rel=\"preconnect\" href=\"https://cdn.jsdelivr.net/npm/protobufjs@7.1.2/dist/minimal/protobuf.min.js\"/><script>window.finNeoPageStart = Date.now();</script><script>(function(){if(!window.YAHOO){window.YAHOO={}}; window.YAHOO.context={\"consent\":{\"allowContentPersonalization\":true,\"allowCrossDevi\n⋮\n893112-byte body\n\"\"\")",
     "output_type": "error",
     "traceback": [
      "HTTP.Exceptions.StatusError(500, \"GET\", \"/quote/SPY/options/\", HTTP.Messages.Response:\n\"\"\"\nHTTP/1.1 500 Internal Server Error\r\nexpect-ct: max-age=31536000, report-uri=\"http://csp.yahoo.com/beacon/csp?src=yahoocom-expect-ct-report-only\r\nreferrer-policy: no-referrer-when-downgrade\r\nstrict-transport-security: max-age=31536000\r\nx-content-type-options: nosniff\r\nx-frame-options: SAMEORIGIN\r\nx-xss-protection: 1; mode=block\r\ncontent-security-policy: connect-src 'self' wss://streamer.finance.yahoo.com/ https://*.3lift.com https://*.adsrvr.org https://*.adtrafficquality.google https://*.casalemedia.com https://*.cdn.yimg.com https://*.clean.gg https://*.criteo.com https://securepubads.g.doubleclick.net/* https://*.indexww.com/ https://*.liadm.com https://*.lijit.com/ https://*.media.net https://*.oath.com https://*.openx.net https://*.pubmatic.com https://*.rubiconproject.com https://*.seedtag.com https://*.sharethrough.com https://*.taboola.com https://*.yahoo.com https://*.yahoo.net https://*.yieldmo.com https://ad.doubleclick.net https://api.alyavista.com https://api.privacy-center.org https://bam.nr-data.net/ https://csi.gstatic.com https://dpm.demdex.net/ https://googleads.g.doubleclick.net/td/auctionwinner https://guce.yahoofinance.com https://oathmembershipsupport.my.salesforce-sites.com/ https://oathmembershipsupport.my.salesforce.com/ https://pagead2.googlesyndication.com https://s.yimg.com https://sdk.privacy-center.org/f5623e34-377a-419c-8bb7-3928cebffbc9/ https://securepubads.g.doubleclick.net https://smetrics.att.com/ https://static.criteo.net/js/ld/publishertag.prebid.144.js; default-src 'self'; font-src 'self' data: https://cdn.taboola.com https://finance.yahoo.com https://fonts.gstatic.com https://s.yimg.com; frame-src 'self' https://*.3lift.com https://*.a-mo.net https://*.abcnews.go.com https://*.adsrvr.org https://*.adtrafficquality.google https://*.advertising.com https://*.amazon-adsystem.com https://*.bbc.co.uk https://*.casalemedia.com https://*.chartbeat.com https://*.clicktivatedvideoplayer.com https://*.criteo.com https://*.deezer.com https://*.delivery.vidible.tv https://*.dailymotion.com/embed/video https://*.emxdgt.com https://*.etonline.com https://*.facebook.com https://*.google.com https://*.gumgum.com https://*.hulu.com https://*.indexww.com https://*.instagram.com https://*.jac.yahoosandbox.com https://*.lijit.com https://*.livestream.com https://*.media.net https://*.mtvnservices.com https://*.myfinance.com https://*.nbc.com https://*.nytimes.com https://*.oath.com https://*.openx.net https://*.pubmatic.com https://*.reuters.com https://*.rubiconproject.com https://*.safeframe.googlesyndication.com https://*.scribd.com https://*.seedtag.com https://*.sharethrough.com https://*.smartasset.com https://*.soundcloud.com https://*.spotify.com https://*.taboola.com https://*.ted.com https://*.theguardian.com https://*.tpc.googlesyndication.com https://*.trustedstack.com https://*.tumblr.com https://*.turner.com https://*.usatoday.com https://*.vimeo.com https://*.washingtonpost.com https://*.wsj.com https://*.yahoo.com https://*.yahoo.net https://*.yieldmo.com https://abcnews.go.com https://att.demdex.net/ https://bbc.co.uk https://cdn.yahoofinance.com/ https://chartbeat.com https://compass.pressekompass.net https://console.googletagservices.com https://delivery.vidible.tv https://embed.acast.com https://embed.music.apple.com https://embed.podcasts.apple.com https://embedder.wirewax.com https://flo.uri.sh/ https://flourish.studio https://www.googletagmanager.com https://guce.yahoofinance.com https://interactives.ap.org https://livestream.com https://openweb.jac.yahoosandbox.com/ https://platform.twitter.com https://s.yimg.com https://securepubads.g.doubleclick.net https://service.force.com/ https://smartasset.com https://tpc.googlesyndication.com https://tsdtocl.com/ https://view.ceros.com https://vimeo.com https://vplayer.nbcolympics.com https://widget-yahoo.ofx.com https://www.bankrate.com https://www.credible.com https://www.dailymotion.com/embed/video/ https://www.myfinance.com https://www.surveymonkey.com https://www.youtube.com https://yahoo.crunchbaseembed.com https://yahoo.real-estate.hk; img-src 'self' data: blob: about: https://www.google.com/ads/measurement/l https://*.1rx.io https://*.3lift.com https://*.adnxs.com https://*.adsafeprotected.com/ https://*.adsrvr.org https://*.adtrafficquality.google https://*.amazon-adsystem.com https://*.casalemedia.com https://*.cloudfront.net/pixel.gif https://*.criteo.com https://*.dotomi.com https://*.doubleclick.net https://*.everesttech.net https://*.googlesyndication.com https://*.indexww.com/ https://*.kueezrtb.com https://*.liadm.com https://*.lijit.com/ https://*.media.net https://*.mediago.io https://*.openx.net https://*.pubmatic.com https://*.rubiconproject.com https://*.sharethrough.com https://*.disqus.com https://*.sonobi.com https://*.taboola.com https://*.wc.yahoodns.net https://*.yahoo.com https://*.yahoo.net https://*.yieldmo.com https://*.yimg.com https://crb.kargo.com https://googleads.g.doubleclick.net/pagead/interaction/ https://media.zenfs.com https://o.aolcdn.com/images/dims https://pbs.twimg.com https://ping.chartbeat.net https://platform.twitter.com https://pong.chartbeat.net https://public.flourish.studio/resources/ https://res.cloudinary.com/yfc-nonprod/ https://res.cloudinary.com/yfc-production/ https://s2.coinmarketcap.com/static/img/coins/ https://sb.scorecardresearch.com https://securepubads.g.doubleclick.net/pagead/adview https://smetrics.att.com/b/ss/attnetprod/ https://static2.chartbeat.com https://syndication.twitter.com https://vop-yahoo.akamaized.net/pixel.gif https://www.facebook.com https://yahoovod.hs.llnwd.net/pixel.gif; manifest-src 'self' https://s.yimg.com; media-src 'self' blob: https://finance.yahoo.com https://s.yimg.com https://res.cloudinary.com/yfc-nonprod/ https://res.cloudinary.com/yfc-production/; object-src 'none'; report-to csp-endpoint; report-uri https://csp.yahoo.com/beacon/csp?src=yahoofinance; sandbox allow-downloads allow-forms allow-modals allow-popups-to-escape-sandbox allow-popups allow-presentation allow-same-origin allow-scripts allow-top-navigation-by-user-activation; script-src 'self' blob: 'unsafe-inline' 'unsafe-eval' https://launcher.spot.im https://*.adtrafficquality.google https://*.oath.com https://*.salesforceliveagent.com/ https://*.taboola.com https://*.yahoo.com https://*.yahoo.net https://adservice.google.com/adsid/integrator.js https://cdn.ampproject.org/rtv/ https://cdn.jsdelivr.net/npm/ https://cdn.rawgit.com/dcodeIO/protobuf.js/ https://console.googletagservices.com/pubconsole/loader.js https://ec.yimg.com/didomi/ https://gum.criteo.com/ https://jac.yahoosandbox.com/2.0.0/jac.js https://oathmembershipsupport.my.salesforce-sites.com/ https://oathmembershipsupport.my.salesforce.com/ https://openweb.jac.yahoosandbox.com/1.5.0/jac.js https://pagead2.googlesyndication.com https://platform.twitter.com https://s.aolcdn.com/membership/omp-static/omp-widgets/ https://s.yimg.com https://securepubads.g.doubleclick.net https://service.force.com/embeddedservice/5.0/ https://static.criteo.net/js/ld/publishertag.prebid.144.js https://static.lightning.force.com/ https://static2.chartbeat.com https://tpc.googlesyndication.com/pagead/js/ https://tpc.googlesyndication.com/sodar/sodar2.js https://wnsrvbjmeprtfrnfx.ay.delivery https://www.googletagservices.com/activeview/js; style-src 'self' 'unsafe-inline' https://cdn.taboola.com https://finance.yahoo.com https://oathmembershipsupport.my.salesforce-sites.com/ https://platform.twitter.com https://s.yimg.com https://service.force.com/; worker-src 'self' blob: https://finance.yahoo.com\r\ncontent-type: text/html; charset=utf-8\r\netag: \"c2l8ib\"\r\npermissions-policy: interest-cohort=()\r\nreport-to: {\"endpoints\":[{\"url\":\"https://csp.yahoo.com/beacon/csp?src=yahoofinance\"}],\"group\":\"csp-endpoint\",\"max-age\":10886400}\r\nx-download-options: noopen\r\nx-permitted-cross-domain-policies: none\r\nx-sveltekit-page: true\r\nvary: Accept-Encoding\r\ncontent-encoding: gzip\r\ndate: Sun, 26 Jan 2025 08:28:58 GMT\r\nx-envoy-upstream-service-time: 148\r\nserver: ATS\r\nx-envoy-decorator-operation: finance-nimbus--mtls-production-gq1.finance-k8s:4080/*\r\nCache-Control: max-age=0, private\r\nExpires: -1\r\nAge: 0\r\nTransfer-Encoding: chunked\r\nConnection: keep-alive\r\n\r\n<!doctype html>\n<html lang=\"en-US\" theme=\"light\"  data-color-scheme=\"light\" class=\"desktop neo-green dock-upscale\">\n    <head>\n        <meta charset=\"utf-8\" />\n        <meta name=\"oath:guce:consent-host\" content=\"guce.yahoo.com\" />\n         <link rel=\"preconnect\" href=\"//s.yimg.com\" crossorigin=\"anonymous\"><link rel=\"preconnect\" href=\"//geo.yahoo.com\"/><link rel=\"preconnect\" href=\"//query1.finance.yahoo.com\"/><link rel=\"preconnect\" href=\"//query2.finance.yahoo.com\"/><link rel=\"preconnect\" href=\"//consent.cmp.oath.com\"/><link rel=\"preload\" href=\"/__rapidworker-1.2.js\" as=\"worker\"/><link rel=\"preconnect\" href=\"https://s.yimg.com/uc/finance/webcore/js/_staticFinProtobuf.4b1559b8e4645fd93a12.js\"/><link rel=\"preconnect\" href=\"https://cdn.jsdelivr.net/npm/protobufjs@7.1.2/dist/minimal/protobuf.min.js\"/><script>window.finNeoPageStart = Date.now();</script><script>(function(){if(!window.YAHOO){window.YAHOO={}}; window.YAHOO.context={\"consent\":{\"allowContentPersonalization\":true,\"allowCrossDevi\n⋮\n893112-byte body\n\"\"\")",
      "",
      "Stacktrace:",
      "  [1] (::HTTP.ConnectionRequest.var\"#connections#4\"{HTTP.ConnectionRequest.var\"#connections#1#5\"{HTTP.TimeoutRequest.var\"#timeouts#3\"{HTTP.TimeoutRequest.var\"#timeouts#1#4\"{HTTP.ExceptionRequest.var\"#exceptions#2\"{HTTP.ExceptionRequest.var\"#exceptions#1#3\"{typeof(HTTP.StreamRequest.streamlayer)}}}}}})(req::HTTP.Messages.Request; proxy::Nothing, socket_type::Type, socket_type_tls::Nothing, readtimeout::Int64, connect_timeout::Int64, logerrors::Bool, logtag::Nothing, closeimmediately::Bool, kw::@Kwargs{iofunction::Nothing, decompress::Nothing, verbose::Int64})",
      "    @ HTTP.ConnectionRequest ~/.julia/packages/HTTP/4AUPl/src/clientlayers/ConnectionRequest.jl:144",
      "  [2] connections",
      "    @ ~/.julia/packages/HTTP/4AUPl/src/clientlayers/ConnectionRequest.jl:60 [inlined]",
      "  [3] (::Base.var\"#106#108\"{Base.var\"#106#107#109\"{ExponentialBackOff, HTTP.RetryRequest.var\"#2#5\"{Int64, typeof(HTTP.RetryRequest.FALSE), HTTP.Messages.Request, Base.RefValue{Int64}}, HTTP.ConnectionRequest.var\"#connections#4\"{HTTP.ConnectionRequest.var\"#connections#1#5\"{HTTP.TimeoutRequest.var\"#timeouts#3\"{HTTP.TimeoutRequest.var\"#timeouts#1#4\"{HTTP.ExceptionRequest.var\"#exceptions#2\"{HTTP.ExceptionRequest.var\"#exceptions#1#3\"{typeof(HTTP.StreamRequest.streamlayer)}}}}}}}})(args::HTTP.Messages.Request; kwargs::@Kwargs{iofunction::Nothing, decompress::Nothing, verbose::Int64})",
      "    @ Base ./error.jl:312",
      "  [4] (::HTTP.RetryRequest.var\"#manageretries#3\"{HTTP.RetryRequest.var\"#manageretries#1#4\"{HTTP.ConnectionRequest.var\"#connections#4\"{HTTP.ConnectionRequest.var\"#connections#1#5\"{HTTP.TimeoutRequest.var\"#timeouts#3\"{HTTP.TimeoutRequest.var\"#timeouts#1#4\"{HTTP.ExceptionRequest.var\"#exceptions#2\"{HTTP.ExceptionRequest.var\"#exceptions#1#3\"{typeof(HTTP.StreamRequest.streamlayer)}}}}}}}})(req::HTTP.Messages.Request; retry::Bool, retries::Int64, retry_delays::ExponentialBackOff, retry_check::Function, retry_non_idempotent::Bool, kw::@Kwargs{iofunction::Nothing, decompress::Nothing, verbose::Int64})",
      "    @ HTTP.RetryRequest ~/.julia/packages/HTTP/4AUPl/src/clientlayers/RetryRequest.jl:75",
      "  [5] manageretries",
      "    @ ~/.julia/packages/HTTP/4AUPl/src/clientlayers/RetryRequest.jl:30 [inlined]",
      "  [6] (::HTTP.CookieRequest.var\"#managecookies#4\"{HTTP.CookieRequest.var\"#managecookies#1#5\"{HTTP.RetryRequest.var\"#manageretries#3\"{HTTP.RetryRequest.var\"#manageretries#1#4\"{HTTP.ConnectionRequest.var\"#connections#4\"{HTTP.ConnectionRequest.var\"#connections#1#5\"{HTTP.TimeoutRequest.var\"#timeouts#3\"{HTTP.TimeoutRequest.var\"#timeouts#1#4\"{HTTP.ExceptionRequest.var\"#exceptions#2\"{HTTP.ExceptionRequest.var\"#exceptions#1#3\"{typeof(HTTP.StreamRequest.streamlayer)}}}}}}}}}})(req::HTTP.Messages.Request; cookies::Bool, cookiejar::HTTP.Cookies.CookieJar, kw::@Kwargs{iofunction::Nothing, decompress::Nothing, verbose::Int64})",
      "    @ HTTP.CookieRequest ~/.julia/packages/HTTP/4AUPl/src/clientlayers/CookieRequest.jl:42",
      "  [7] managecookies",
      "    @ ~/.julia/packages/HTTP/4AUPl/src/clientlayers/CookieRequest.jl:19 [inlined]",
      "  [8] (::HTTP.HeadersRequest.var\"#defaultheaders#2\"{HTTP.HeadersRequest.var\"#defaultheaders#1#3\"{HTTP.CookieRequest.var\"#managecookies#4\"{HTTP.CookieRequest.var\"#managecookies#1#5\"{HTTP.RetryRequest.var\"#manageretries#3\"{HTTP.RetryRequest.var\"#manageretries#1#4\"{HTTP.ConnectionRequest.var\"#connections#4\"{HTTP.ConnectionRequest.var\"#connections#1#5\"{HTTP.TimeoutRequest.var\"#timeouts#3\"{HTTP.TimeoutRequest.var\"#timeouts#1#4\"{HTTP.ExceptionRequest.var\"#exceptions#2\"{HTTP.ExceptionRequest.var\"#exceptions#1#3\"{typeof(HTTP.StreamRequest.streamlayer)}}}}}}}}}}}})(req::HTTP.Messages.Request; iofunction::Nothing, decompress::Nothing, basicauth::Bool, detect_content_type::Bool, canonicalize_headers::Bool, kw::@Kwargs{verbose::Int64})",
      "    @ HTTP.HeadersRequest ~/.julia/packages/HTTP/4AUPl/src/clientlayers/HeadersRequest.jl:71",
      "  [9] defaultheaders",
      "    @ ~/.julia/packages/HTTP/4AUPl/src/clientlayers/HeadersRequest.jl:14 [inlined]",
      " [10] (::HTTP.RedirectRequest.var\"#redirects#3\"{HTTP.RedirectRequest.var\"#redirects#1#4\"{HTTP.HeadersRequest.var\"#defaultheaders#2\"{HTTP.HeadersRequest.var\"#defaultheaders#1#3\"{HTTP.CookieRequest.var\"#managecookies#4\"{HTTP.CookieRequest.var\"#managecookies#1#5\"{HTTP.RetryRequest.var\"#manageretries#3\"{HTTP.RetryRequest.var\"#manageretries#1#4\"{HTTP.ConnectionRequest.var\"#connections#4\"{HTTP.ConnectionRequest.var\"#connections#1#5\"{HTTP.TimeoutRequest.var\"#timeouts#3\"{HTTP.TimeoutRequest.var\"#timeouts#1#4\"{HTTP.ExceptionRequest.var\"#exceptions#2\"{HTTP.ExceptionRequest.var\"#exceptions#1#3\"{typeof(HTTP.StreamRequest.streamlayer)}}}}}}}}}}}}}})(req::HTTP.Messages.Request; redirect::Bool, redirect_limit::Int64, redirect_method::Nothing, forwardheaders::Bool, response_stream::Nothing, kw::@Kwargs{verbose::Int64})",
      "    @ HTTP.RedirectRequest ~/.julia/packages/HTTP/4AUPl/src/clientlayers/RedirectRequest.jl:25",
      " [11] redirects",
      "    @ ~/.julia/packages/HTTP/4AUPl/src/clientlayers/RedirectRequest.jl:14 [inlined]",
      " [12] (::HTTP.MessageRequest.var\"#makerequest#3\"{HTTP.MessageRequest.var\"#makerequest#1#4\"{HTTP.RedirectRequest.var\"#redirects#3\"{HTTP.RedirectRequest.var\"#redirects#1#4\"{HTTP.HeadersRequest.var\"#defaultheaders#2\"{HTTP.HeadersRequest.var\"#defaultheaders#1#3\"{HTTP.CookieRequest.var\"#managecookies#4\"{HTTP.CookieRequest.var\"#managecookies#1#5\"{HTTP.RetryRequest.var\"#manageretries#3\"{HTTP.RetryRequest.var\"#manageretries#1#4\"{HTTP.ConnectionRequest.var\"#connections#4\"{HTTP.ConnectionRequest.var\"#connections#1#5\"{HTTP.TimeoutRequest.var\"#timeouts#3\"{HTTP.TimeoutRequest.var\"#timeouts#1#4\"{HTTP.ExceptionRequest.var\"#exceptions#2\"{HTTP.ExceptionRequest.var\"#exceptions#1#3\"{typeof(HTTP.StreamRequest.streamlayer)}}}}}}}}}}}}}}}})(method::String, url::URIs.URI, headers::Nothing, body::Vector{UInt8}; copyheaders::Bool, response_stream::Nothing, http_version::HTTP.Strings.HTTPVersion, verbose::Int64, kw::@Kwargs{})",
      "    @ HTTP.MessageRequest ~/.julia/packages/HTTP/4AUPl/src/clientlayers/MessageRequest.jl:35",
      " [13] makerequest",
      "    @ ~/.julia/packages/HTTP/4AUPl/src/clientlayers/MessageRequest.jl:24 [inlined]",
      " [14] request(stack::HTTP.MessageRequest.var\"#makerequest#3\"{HTTP.MessageRequest.var\"#makerequest#1#4\"{HTTP.RedirectRequest.var\"#redirects#3\"{HTTP.RedirectRequest.var\"#redirects#1#4\"{HTTP.HeadersRequest.var\"#defaultheaders#2\"{HTTP.HeadersRequest.var\"#defaultheaders#1#3\"{HTTP.CookieRequest.var\"#managecookies#4\"{HTTP.CookieRequest.var\"#managecookies#1#5\"{HTTP.RetryRequest.var\"#manageretries#3\"{HTTP.RetryRequest.var\"#manageretries#1#4\"{HTTP.ConnectionRequest.var\"#connections#4\"{HTTP.ConnectionRequest.var\"#connections#1#5\"{HTTP.TimeoutRequest.var\"#timeouts#3\"{HTTP.TimeoutRequest.var\"#timeouts#1#4\"{HTTP.ExceptionRequest.var\"#exceptions#2\"{HTTP.ExceptionRequest.var\"#exceptions#1#3\"{typeof(HTTP.StreamRequest.streamlayer)}}}}}}}}}}}}}}}}, method::String, url::String, h::Nothing, b::Vector{UInt8}, q::Nothing; headers::Nothing, body::Vector{UInt8}, query::Nothing, kw::@Kwargs{})",
      "    @ HTTP ~/.julia/packages/HTTP/4AUPl/src/HTTP.jl:457",
      " [15] request(stack::Function, method::String, url::String, h::Nothing, b::Vector{UInt8}, q::Nothing)",
      "    @ HTTP ~/.julia/packages/HTTP/4AUPl/src/HTTP.jl:455",
      " [16] #request#20",
      "    @ ~/.julia/packages/HTTP/4AUPl/src/HTTP.jl:315 [inlined]",
      " [17] request (repeats 2 times)",
      "    @ ~/.julia/packages/HTTP/4AUPl/src/HTTP.jl:313 [inlined]",
      " [18] get",
      "    @ ~/.julia/packages/HTTP/4AUPl/src/HTTP.jl:518 [inlined]",
      " [19] scrape_yahoo_option_chain()",
      "    @ Main ./In[37]:6",
      " [20] top-level scope",
      "    @ In[38]:2"
     ]
    }
   ],
   "source": [
    "# Example usage\n",
    "scrape_yahoo_option_chain()"
   ]
  },
  {
   "cell_type": "code",
   "execution_count": 42,
   "id": "0520eee6-cefd-4bd9-bceb-e1f08cd04edd",
   "metadata": {},
   "outputs": [
    {
     "ename": "LoadError",
     "evalue": "ArgumentError: invalid index: \"records\" of type String",
     "output_type": "error",
     "traceback": [
      "ArgumentError: invalid index: \"records\" of type String",
      "",
      "Stacktrace:",
      " [1] to_index(i::String)",
      "   @ Base ./indices.jl:315",
      " [2] to_index(A::JSON3.Array{JSON3.Object, Vector{UInt8}, SubArray{UInt64, 1, Vector{UInt64}, Tuple{UnitRange{Int64}}, true}}, i::String)",
      "   @ Base ./indices.jl:292",
      " [3] to_indices",
      "   @ ./indices.jl:368 [inlined]",
      " [4] to_indices",
      "   @ ./indices.jl:360 [inlined]",
      " [5] getindex(A::JSON3.Array{JSON3.Object, Vector{UInt8}, SubArray{UInt64, 1, Vector{UInt64}, Tuple{UnitRange{Int64}}, true}}, I::String)",
      "   @ Base ./abstractarray.jl:1312",
      " [6] top-level scope",
      "   @ ./In[42]:2"
     ]
    }
   ],
   "source": [
    "if chain !== nothing\n",
    "    contracts = chain[\"records\"][\"data\"]\n",
    "    for contract in contracts[1:20]  # Print first 5 contracts\n",
    "        println(\"Strike Price: \", contract[\"strikePrice\"])\n",
    "\t\tif haskey(contract, \"CE\")\n",
    "        \tprintln(\"Call Open Interest: \", contract[\"CE\"][\"openInterest\"])\n",
    "\t\tend\n",
    "\t\tif haskey(contract, \"PE\")\n",
    "        \tprintln(\"Put Open Interest: \", contract[\"PE\"][\"openInterest\"])\n",
    "\t\tend\n",
    "        println(\"-\"^30)\n",
    "    end\n",
    "end"
   ]
  },
  {
   "cell_type": "code",
   "execution_count": null,
   "id": "05df70a5-6284-43a1-9e59-70d9d63c49b7",
   "metadata": {},
   "outputs": [],
   "source": []
  }
 ],
 "metadata": {
  "kernelspec": {
   "display_name": "Julia 1.11.3",
   "language": "julia",
   "name": "julia-1.11"
  },
  "language_info": {
   "file_extension": ".jl",
   "mimetype": "application/julia",
   "name": "julia",
   "version": "1.11.3"
  }
 },
 "nbformat": 4,
 "nbformat_minor": 5
}
