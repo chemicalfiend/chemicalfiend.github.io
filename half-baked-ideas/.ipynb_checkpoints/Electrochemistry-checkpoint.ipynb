{
 "cells": [
  {
   "cell_type": "markdown",
   "id": "4cc58753-afbb-4939-a6d5-15473db6b899",
   "metadata": {},
   "source": [
    "Made by Pranay Venkatesh April 2025"
   ]
  },
  {
   "cell_type": "markdown",
   "id": "1ecddc06-b604-4687-991a-5cf11cb997d1",
   "metadata": {},
   "source": [
    "# Electrochemistry : Fundamentals, Applications and Theory\n",
    "\n",
    "- Rapidly developing field for which I'm trying to maintain an (as usual) inadequate placeholder.\n",
    "- There was a class for undergrads in my university called \"electrochemistry : fundamentals and applications\" and I'm stealing that course title and adding theory so that I can do some thinking on chemical physics for these problems.\n",
    "- Int"
   ]
  },
  {
   "cell_type": "markdown",
   "id": "57040ffa-dbf6-49fb-a827-8481ec837c47",
   "metadata": {},
   "source": [
    "# Kindergarten Electrochemistry\n",
    "- Favourable Reaction => Voltage or Voltage => Drives a reaction\n",
    "- "
   ]
  },
  {
   "cell_type": "markdown",
   "id": "ef211f29-3f5d-4f4b-b0ff-811e860307e4",
   "metadata": {},
   "source": [
    "# Noob's Electrochemistry"
   ]
  },
  {
   "cell_type": "markdown",
   "id": "7d83e4da-7ac5-4d6f-901f-70490bd5fe88",
   "metadata": {},
   "source": [
    "# Kinetics Beyond BVE"
   ]
  },
  {
   "cell_type": "markdown",
   "id": "3ed24e1b-d138-455b-9810-70af95a7703b",
   "metadata": {},
   "source": [
    "# Marcus-Hush"
   ]
  },
  {
   "cell_type": "markdown",
   "id": "0c4fc21f-ce9a-4c0a-b048-5f4a3789ab27",
   "metadata": {},
   "source": [
    "# Modelling Interfaces "
   ]
  },
  {
   "cell_type": "markdown",
   "id": "0dd23327-2d30-4397-8f62-5d4099e24113",
   "metadata": {},
   "source": [
    "# Ionic Transport"
   ]
  },
  {
   "cell_type": "markdown",
   "id": "40568665-ecab-4b76-9b66-fdbee9c1051b",
   "metadata": {},
   "source": [
    "To Read:\n",
    "1. [Alex zinc anodes](https://doi.org/10.1002/smll.202306827)\n",
    "2. [tom thesis](https://www.repository.cam.ac.uk/items/31a60645-69d9-41dd-8be4-2da4f4255600)\n",
    "3. "
   ]
  }
 ],
 "metadata": {
  "kernelspec": {
   "display_name": "Julia 1.11.4",
   "language": "julia",
   "name": "julia-1.11"
  },
  "language_info": {
   "file_extension": ".jl",
   "mimetype": "application/julia",
   "name": "julia",
   "version": "1.11.4"
  }
 },
 "nbformat": 4,
 "nbformat_minor": 5
}
