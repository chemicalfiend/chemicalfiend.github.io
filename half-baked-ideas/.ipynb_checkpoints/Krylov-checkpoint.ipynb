{
 "cells": [
  {
   "cell_type": "markdown",
   "id": "c6e3337c-5103-4ebe-a775-a4c6840b919c",
   "metadata": {},
   "source": [
    "Made by Pranay Venkatesh, April 2025"
   ]
  },
  {
   "cell_type": "markdown",
   "id": "7e61f4e2-8cdf-4b01-abe6-20727afa4689",
   "metadata": {},
   "source": [
    "# Krylov Subspace Methods\n",
    "- for now an inadequate placeholder for what should be a decent set of notes for using Krylov subspace methods in numerical linear algebra problems\n",
    "- Lanczos algorithm\n",
    "- GMRES\n",
    "- Arnoldi iteration"
   ]
  },
  {
   "cell_type": "markdown",
   "id": "e70fc1de-73a2-4ebf-9582-8cdcf15037c6",
   "metadata": {},
   "source": [
    "To Read\n",
    "- [ ] [Van Der Vost Krylov Subspace](https://doi.org/10.1016/0377-0427(87)90020-3)\n",
    "- [ ] "
   ]
  }
 ],
 "metadata": {
  "kernelspec": {
   "display_name": "Julia 1.11.4",
   "language": "julia",
   "name": "julia-1.11"
  },
  "language_info": {
   "file_extension": ".jl",
   "mimetype": "application/julia",
   "name": "julia",
   "version": "1.11.4"
  }
 },
 "nbformat": 4,
 "nbformat_minor": 5
}
